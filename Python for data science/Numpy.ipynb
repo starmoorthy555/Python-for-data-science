{
 "cells": [
  {
   "cell_type": "markdown",
   "metadata": {},
   "source": [
    "# Numpy in Python:\n",
    "\n",
    "        --> Numpy is a python libraray used for working with arrays.\n",
    "        \n",
    "        --> Its also functions for working in domain of linear algebra,fourier transformation,and matrices.\n",
    "        \n",
    "        --> Numpy stands for numerical python.\n",
    "\n",
    "        --> Its a third party library."
   ]
  },
  {
   "cell_type": "markdown",
   "metadata": {},
   "source": [
    "# Converting list into array:"
   ]
  },
  {
   "cell_type": "code",
   "execution_count": 56,
   "metadata": {},
   "outputs": [
    {
     "name": "stdout",
     "output_type": "stream",
     "text": [
      "The normal list value is : [5, 9, 67, 67, 45, 3, 4, 54, 23]\n",
      "The array value is: [ 5  9 67 67 45  3  4 54 23]\n"
     ]
    }
   ],
   "source": [
    "import numpy as np\n",
    "a = [5,9,67,67,45,3,4,54,23]\n",
    "print('The normal list value is :',a)\n",
    "x = np.array(a)\n",
    "print('The array value is:',x)"
   ]
  },
  {
   "cell_type": "markdown",
   "metadata": {},
   "source": [
    "# Adding two list using numpy:"
   ]
  },
  {
   "cell_type": "code",
   "execution_count": 54,
   "metadata": {},
   "outputs": [
    {
     "name": "stdout",
     "output_type": "stream",
     "text": [
      "The 1st list array value is : [1 2 3 4]\n",
      "The 2nd list array value is : [1 2 3 4]\n",
      "The adding value of two array is: [ 1  4  9 16]\n"
     ]
    }
   ],
   "source": [
    "import numpy as np\n",
    "npl1 = np.array([1,2,3,4])\n",
    "npl2 = np.array([1,2,3,4])\n",
    "npl3 = npl1 * npl2\n",
    "print('The 1st list array value is :',npl1)\n",
    "print('The 2nd list array value is :',npl2)\n",
    "print('The adding value of two array is:',npl3)"
   ]
  },
  {
   "cell_type": "markdown",
   "metadata": {},
   "source": [
    "# Finding Dimensions in numpy:"
   ]
  },
  {
   "cell_type": "code",
   "execution_count": 36,
   "metadata": {},
   "outputs": [
    {
     "name": "stdout",
     "output_type": "stream",
     "text": [
      "[ 5  9 67 67 45  3  4 54 23]\n",
      "The dimension of x valiue is :  1\n"
     ]
    }
   ],
   "source": [
    "import numpy as np\n",
    "a = [5,9,67,67,45,3,4,54,23]\n",
    "x = np.array(a)\n",
    "print(x)\n",
    "print('The dimension of x valiue is : ',x.ndim)"
   ]
  },
  {
   "cell_type": "code",
   "execution_count": 37,
   "metadata": {},
   "outputs": [
    {
     "name": "stdout",
     "output_type": "stream",
     "text": [
      "[[2 3 4]\n",
      " [5 6 7]]\n",
      "The dimension of a value is :  2\n"
     ]
    }
   ],
   "source": [
    "import numpy as np\n",
    "a = np.array([[2,3,4],[5,6,7]])\n",
    "print(a)\n",
    "print('The dimension of a value is : ',a.ndim)"
   ]
  },
  {
   "cell_type": "code",
   "execution_count": 42,
   "metadata": {},
   "outputs": [
    {
     "name": "stdout",
     "output_type": "stream",
     "text": [
      "[[[2 1 4 3 5]\n",
      "  [7 8 6 5 5]\n",
      "  [4 5 6 5 4]]]\n",
      "the dimension of a value is : 3\n"
     ]
    }
   ],
   "source": [
    "import numpy as np\n",
    "a =np.array([[[2,1,4,3,5],[7,8,6,5,5],[4,5,6,5,4]]])\n",
    "print(a)\n",
    "print('the dimension of a value is :',a.ndim)"
   ]
  },
  {
   "cell_type": "markdown",
   "metadata": {},
   "source": [
    "# Finding shape in numpy:"
   ]
  },
  {
   "cell_type": "code",
   "execution_count": 44,
   "metadata": {},
   "outputs": [
    {
     "name": "stdout",
     "output_type": "stream",
     "text": [
      "[ 5  9 67 67 45  3  4 54 23]\n",
      "The shape of the x value is : (9,)\n"
     ]
    }
   ],
   "source": [
    "import numpy as np\n",
    "a = [5,9,67,67,45,3,4,54,23]\n",
    "x = np.array(a)\n",
    "print(x)\n",
    "print('The shape of the x value is :',x.shape)"
   ]
  },
  {
   "cell_type": "markdown",
   "metadata": {},
   "source": [
    "# Reshape in Numpy:"
   ]
  },
  {
   "cell_type": "code",
   "execution_count": 6,
   "metadata": {},
   "outputs": [
    {
     "name": "stdout",
     "output_type": "stream",
     "text": [
      "<built-in method reshape of numpy.ndarray object at 0x00000298250E0090>\n"
     ]
    }
   ],
   "source": [
    "import numpy as np\n",
    "a = [5,9,67,67,45,3,4,54,23]\n",
    "x = np.array(a)\n",
    "print(x.reshape)"
   ]
  },
  {
   "cell_type": "markdown",
   "metadata": {},
   "source": [
    "# Finding Data Types in Python:"
   ]
  },
  {
   "cell_type": "code",
   "execution_count": 45,
   "metadata": {},
   "outputs": [
    {
     "name": "stdout",
     "output_type": "stream",
     "text": [
      "[5, 9, 67, 67, 45, 3, 4, 54, 23]\n",
      "The data type of a is : int32\n"
     ]
    }
   ],
   "source": [
    "import numpy as np\n",
    "a = [5,9,67,67,45,3,4,54,23]\n",
    "x = np.array(a)\n",
    "print(a)\n",
    "print('The data type of a is :',x.dtype)"
   ]
  },
  {
   "cell_type": "markdown",
   "metadata": {},
   "source": [
    "# Finding Size in Python:"
   ]
  },
  {
   "cell_type": "code",
   "execution_count": 46,
   "metadata": {},
   "outputs": [
    {
     "name": "stdout",
     "output_type": "stream",
     "text": [
      "[5, 9, 67, 67, 45, 3, 4, 54, 23]\n",
      "the size of the a value is: 9\n"
     ]
    }
   ],
   "source": [
    "import numpy as np\n",
    "a = [5,9,67,67,45,3,4,54,23]\n",
    "x = np.array(a)\n",
    "print(a)\n",
    "print('the size of the a value is:',x.size)"
   ]
  },
  {
   "cell_type": "markdown",
   "metadata": {},
   "source": [
    "# Finding Data Types True (or) False:"
   ]
  },
  {
   "cell_type": "code",
   "execution_count": 12,
   "metadata": {},
   "outputs": [
    {
     "name": "stdout",
     "output_type": "stream",
     "text": [
      "False\n"
     ]
    }
   ],
   "source": [
    "import numpy as np\n",
    "a = [5,9,67,67,45,3,4,54,23]\n",
    "x = np.array(a)\n",
    "print(x.dtype=='float64')"
   ]
  },
  {
   "cell_type": "code",
   "execution_count": 15,
   "metadata": {},
   "outputs": [
    {
     "name": "stdout",
     "output_type": "stream",
     "text": [
      "True\n"
     ]
    }
   ],
   "source": [
    "import numpy as np\n",
    "a = [5,9,67,67,45,3,4,54,23]\n",
    "x = np.array(a)\n",
    "print(x.dtype=='int32')"
   ]
  },
  {
   "cell_type": "markdown",
   "metadata": {},
   "source": [
    "# Finding Maximum number in numpy:"
   ]
  },
  {
   "cell_type": "code",
   "execution_count": 48,
   "metadata": {},
   "outputs": [
    {
     "name": "stdout",
     "output_type": "stream",
     "text": [
      "[3, 5, 4, 2, 5, 4, 3, 1]\n",
      "The maximum value of x is: 67\n"
     ]
    }
   ],
   "source": [
    "import numpy as np\n",
    "a =[3,5,4,2,5,4,3,1]\n",
    "y = np.array(a)\n",
    "print(a)\n",
    "print('The maximum value of x is:',max(x))"
   ]
  },
  {
   "cell_type": "markdown",
   "metadata": {},
   "source": [
    "# Finding Minimum number in numpy:"
   ]
  },
  {
   "cell_type": "code",
   "execution_count": 50,
   "metadata": {},
   "outputs": [
    {
     "name": "stdout",
     "output_type": "stream",
     "text": [
      "[5, 8, 4, 5, 2, 5, 6, 4, 3, 0, 9]\n",
      "The minimum value of a is: 0\n"
     ]
    }
   ],
   "source": [
    "import numpy as np\n",
    "a =[5,8,4,5,2,5,6,4,3,0,9]\n",
    "y = np.array(a)\n",
    "print(a)\n",
    "print('The minimum value of a is:',min(y))"
   ]
  },
  {
   "cell_type": "markdown",
   "metadata": {},
   "source": [
    "# Sum of values in Numpy:"
   ]
  },
  {
   "cell_type": "code",
   "execution_count": 51,
   "metadata": {},
   "outputs": [
    {
     "name": "stdout",
     "output_type": "stream",
     "text": [
      "[4, 7, 5, 7, 7, 6, 6, 8, 9]\n",
      "The sum value of a is: 59\n"
     ]
    }
   ],
   "source": [
    "import numpy as np\n",
    "a = [4,7,5,7,7,6,6,8,9,]\n",
    "y =np.array(a)\n",
    "print(a)\n",
    "print('The sum value of a is:',np.sum(y))"
   ]
  },
  {
   "cell_type": "markdown",
   "metadata": {},
   "source": [
    "# Square root values in numpy:"
   ]
  },
  {
   "cell_type": "code",
   "execution_count": 27,
   "metadata": {},
   "outputs": [
    {
     "name": "stdout",
     "output_type": "stream",
     "text": [
      "[3.         2.         2.23606798 1.41421356 3.         2.82842712\n",
      " 2.64575131 3.        ]\n"
     ]
    }
   ],
   "source": [
    "import numpy as np\n",
    "a = [9,4,5,2,9,8,7,9]\n",
    "y = np.array(a)\n",
    "print(np.sqrt(y))"
   ]
  },
  {
   "cell_type": "markdown",
   "metadata": {},
   "source": [
    "# Converting Integer into Complex:"
   ]
  },
  {
   "cell_type": "code",
   "execution_count": 66,
   "metadata": {},
   "outputs": [
    {
     "name": "stdout",
     "output_type": "stream",
     "text": [
      "The complex value of l: [[2.+0.j 3.+0.j 4.+0.j]\n",
      " [5.+0.j 4.+0.j 5.+0.j]]\n"
     ]
    }
   ],
   "source": [
    "import numpy as np\n",
    "l=np.array([[2,3,4],[5,4,5]],dtype=complex)\n",
    "print('The complex value of l:',l)"
   ]
  },
  {
   "cell_type": "markdown",
   "metadata": {},
   "source": [
    "# Converting Integer into Float:"
   ]
  },
  {
   "cell_type": "code",
   "execution_count": 69,
   "metadata": {},
   "outputs": [
    {
     "name": "stdout",
     "output_type": "stream",
     "text": [
      "The Float value of: [[2. 3. 4. 3.]\n",
      " [6. 5. 6. 5.]]\n"
     ]
    }
   ],
   "source": [
    "import numpy as np\n",
    "l=np.array([[2,3,4,3],[6,5,6,5]],dtype=float)\n",
    "print('The Float value of:',l)"
   ]
  },
  {
   "cell_type": "markdown",
   "metadata": {},
   "source": [
    "# Range Value in Numpy:"
   ]
  },
  {
   "cell_type": "code",
   "execution_count": 75,
   "metadata": {},
   "outputs": [
    {
     "name": "stdout",
     "output_type": "stream",
     "text": [
      "The range of of 0 to 10 is: [0 1 2 3 4 5 6 7 8 9]\n"
     ]
    }
   ],
   "source": [
    "import numpy as np\n",
    "l = np.arange(10)\n",
    "print('The range of of 0 to 10 is:',l)"
   ]
  },
  {
   "cell_type": "code",
   "execution_count": 77,
   "metadata": {},
   "outputs": [
    {
     "name": "stdout",
     "output_type": "stream",
     "text": [
      "[[0. 0. 0.]\n",
      " [0. 0. 0.]\n",
      " [0. 0. 0.]]\n"
     ]
    }
   ],
   "source": [
    "import numpy as np\n",
    "l = np.zeros((3,3))\n",
    "print(l)"
   ]
  },
  {
   "cell_type": "code",
   "execution_count": 79,
   "metadata": {},
   "outputs": [
    {
     "name": "stdout",
     "output_type": "stream",
     "text": [
      "[[1. 1. 1.]\n",
      " [1. 1. 1.]\n",
      " [1. 1. 1.]]\n"
     ]
    }
   ],
   "source": [
    "import numpy as np\n",
    "l = np.ones((3,3))\n",
    "print(l)"
   ]
  },
  {
   "cell_type": "markdown",
   "metadata": {},
   "source": [
    "# Indexing & Slizing in numpy:"
   ]
  },
  {
   "cell_type": "markdown",
   "metadata": {},
   "source": [
    "# Indexing.\n",
    "\n",
    "        --> Indexing is mainly used for acess some particular value with the help of its position.\n",
    "        \n",
    "        --> We have two types of indexing in numpy.They are\n",
    "                    1.Positive Indexing.\n",
    "                    2.Negative Indexing."
   ]
  },
  {
   "cell_type": "markdown",
   "metadata": {},
   "source": [
    "# Positive Indexing.\n",
    "\n",
    "        --> We are going to acess the value with the help of positive values.\n"
   ]
  },
  {
   "cell_type": "code",
   "execution_count": 62,
   "metadata": {},
   "outputs": [
    {
     "name": "stdout",
     "output_type": "stream",
     "text": [
      "[2 5 4 3 6 7 9 5 3 7 7 6]\n",
      "The second indexing value of x is: 4\n"
     ]
    }
   ],
   "source": [
    "import numpy as np\n",
    "l =np.array([2,5,4,3,6,7,9,5,3,7,7,6])\n",
    "print(l)\n",
    "print('The second indexing value of x is:',l[2])"
   ]
  },
  {
   "cell_type": "code",
   "execution_count": 80,
   "metadata": {},
   "outputs": [
    {
     "name": "stdout",
     "output_type": "stream",
     "text": [
      "[9 4 5 3 7 6 5 7 8]\n",
      "the forth indexing value of x is: 7\n"
     ]
    }
   ],
   "source": [
    "import numpy as np\n",
    "l = np.array([9,4,5,3,7,6,5,7,8])\n",
    "print(l)\n",
    "print('the forth indexing value of x is:',l[4])"
   ]
  },
  {
   "cell_type": "markdown",
   "metadata": {},
   "source": [
    "# Negative Indexing:\n",
    "\n",
    "        --> We are acess the value with the help of negative values.\n",
    "        \n",
    "        --> The majour difference between positive indexing and negative indexing is they going to acess the value reverse.\n",
    "       "
   ]
  },
  {
   "cell_type": "code",
   "execution_count": 82,
   "metadata": {},
   "outputs": [
    {
     "name": "stdout",
     "output_type": "stream",
     "text": [
      "[5 3 6 7 8 6 8 5 6 8]\n",
      "The negative value of -5 indexing value is: 6\n"
     ]
    }
   ],
   "source": [
    "import numpy as np\n",
    "l = np.array([5,3,6,7,8,6,8,5,6,8])\n",
    "print(l)\n",
    "print('The negative value of -5 indexing value is:',l[-5])"
   ]
  },
  {
   "cell_type": "code",
   "execution_count": 84,
   "metadata": {},
   "outputs": [
    {
     "name": "stdout",
     "output_type": "stream",
     "text": [
      "[6 4 9 6 3 2 6 7 8 4]\n",
      "The negative value of -8 indexing value is: 9\n"
     ]
    }
   ],
   "source": [
    "import numpy as np\n",
    "l = np.array([6,4,9,6,3,2,6,7,8,4])\n",
    "print(l)\n",
    "print('The negative value of -8 indexing value is:',l[-8])"
   ]
  },
  {
   "cell_type": "markdown",
   "metadata": {},
   "source": [
    "# Slizing in Numpy:\n",
    "\n",
    "        --> Slizing is mainly used for acess the value inbetween some range.\n",
    "        \n",
    "        --> We are going to acess the value with starting position and ending position. "
   ]
  },
  {
   "cell_type": "code",
   "execution_count": 85,
   "metadata": {},
   "outputs": [
    {
     "name": "stdout",
     "output_type": "stream",
     "text": [
      "[1 6 4 5 8 5 9 7 4 7 6 3 7 0 9 0 7]\n",
      "the slizing value is: [5 8 5]\n"
     ]
    }
   ],
   "source": [
    "import numpy as np\n",
    "l = np.array([1,6,4,5,8,5,9,7,4,7,6,3,7,0,9,0,7])\n",
    "print(l)\n",
    "print('the slizing value is:',l[3:6])"
   ]
  },
  {
   "cell_type": "code",
   "execution_count": 86,
   "metadata": {},
   "outputs": [
    {
     "name": "stdout",
     "output_type": "stream",
     "text": [
      "[6 4 5 8 7 9 1 3 2 6 4 7 9 4 5 6 7]\n",
      "The slizing value is: [5 8 7 9 1]\n"
     ]
    }
   ],
   "source": [
    "import numpy as np\n",
    "l = np.array([6,4,5,8,7,9,1,3,2,6,4,7,9,4,5,6,7])\n",
    "print(l)\n",
    "print('The slizing value is:',l[2:7])"
   ]
  },
  {
   "cell_type": "markdown",
   "metadata": {},
   "source": [
    "# Increment the value in slizing:"
   ]
  },
  {
   "cell_type": "code",
   "execution_count": 87,
   "metadata": {},
   "outputs": [
    {
     "name": "stdout",
     "output_type": "stream",
     "text": [
      "[3 2 1 3 2 5 6 4 6 7 8 9 8 7 8 9 7 6 5 4 7 8 9 4]\n",
      "The slizing value with increment: [1 2 6]\n"
     ]
    }
   ],
   "source": [
    "import numpy as np\n",
    "l = np.array([3,2,1,3,2,5,6,4,6,7,8,9,8,7,8,9,7,6,5,4,7,8,9,4])\n",
    "print(l)\n",
    "print('The slizing value with increment:',l[2:8:2])"
   ]
  }
 ],
 "metadata": {
  "kernelspec": {
   "display_name": "Python 3",
   "language": "python",
   "name": "python3"
  },
  "language_info": {
   "codemirror_mode": {
    "name": "ipython",
    "version": 3
   },
   "file_extension": ".py",
   "mimetype": "text/x-python",
   "name": "python",
   "nbconvert_exporter": "python",
   "pygments_lexer": "ipython3",
   "version": "3.7.6"
  }
 },
 "nbformat": 4,
 "nbformat_minor": 4
}
