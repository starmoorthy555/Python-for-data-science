{
 "cells": [
  {
   "cell_type": "markdown",
   "metadata": {},
   "source": [
    "# Pandas:\n",
    "\n",
    "        --> Pandas is mainly used for manuplualtiong our daata sets.\n",
    "        \n",
    "        --> Data Frames is a main object in pandas.\n",
    "        \n",
    "        --> It's representmdata with rows and coloumns.\n",
    "        \n",
    "  "
   ]
  },
  {
   "cell_type": "code",
   "execution_count": 2,
   "metadata": {},
   "outputs": [
    {
     "name": "stdout",
     "output_type": "stream",
     "text": [
      "    Id   Name Departments Passed_Out\n",
      "0  100    Raj        Mech       2018\n",
      "1  101    Sam         EEE       2019\n",
      "2  102  kalai         ECE       2018\n",
      "3  103    ram          IT       2019\n",
      "4  104    Taj         CSE       2019\n",
      "5  105   Samy       CIVIL       2018\n"
     ]
    }
   ],
   "source": [
    "import pandas as pd\n",
    "student_info ={'Id':['100','101','102','103','104','105'],\n",
    "              'Name':['Raj','Sam','kalai','ram','Taj','Samy'],\n",
    "              'Departments':['Mech','EEE','ECE','IT','CSE','CIVIL'],\n",
    "              'Passed_Out':['2018','2019','2018','2019','2019','2018']}\n",
    "data = pd.DataFrame(student_info)\n",
    "print(data)"
   ]
  },
  {
   "cell_type": "markdown",
   "metadata": {},
   "source": [
    "# Data Types in Pandas:\n",
    "\n",
    "        --> We have three types of data sets in pandas.They are\n",
    "        \n",
    "                1.Series.\n",
    "                \n",
    "                2.DataFrame.\n",
    "                \n",
    "                3.Panel."
   ]
  },
  {
   "cell_type": "markdown",
   "metadata": {},
   "source": [
    "# Series:\n",
    "\n",
    "        --> series its represened by one dimensional."
   ]
  },
  {
   "cell_type": "code",
   "execution_count": 32,
   "metadata": {},
   "outputs": [
    {
     "name": "stdout",
     "output_type": "stream",
     "text": [
      "[4, 6, 5, 2, 5, 4, 8, 9]\n"
     ]
    }
   ],
   "source": [
    "import pandas as pd\n",
    "l = [4,6,5,2,5,4,8,9]\n",
    "df = pd.Series(l)\n",
    "print(l)"
   ]
  },
  {
   "cell_type": "markdown",
   "metadata": {},
   "source": [
    "# DataFrame:\n",
    "    \n",
    "            --> It's represented by two dimensional."
   ]
  },
  {
   "cell_type": "code",
   "execution_count": 34,
   "metadata": {},
   "outputs": [
    {
     "name": "stdout",
     "output_type": "stream",
     "text": [
      "  emp_id     emp_name   phone_num District\n",
      "0  23670    saravanan  9856879867  vellore\n",
      "1  28675       selvem  8967594934    salem\n",
      "2  89655   thirupathi  8798675456    karur\n",
      "3  65785  Arunachalam  9987567678  chennai\n",
      "4  89765     Planival  8955557645    covai\n"
     ]
    }
   ],
   "source": [
    "import pandas as pd\n",
    "employeers_info={'emp_id':['23670','28675','89655','65785','89765'],\n",
    "                'emp_name':['saravanan','selvem','thirupathi','Arunachalam','Planival'],\n",
    "                'phone_num':['9856879867','8967594934','8798675456','9987567678','8955557645'],\n",
    "                'District':['vellore','salem','karur','chennai','covai']}\n",
    "data = pd.DataFrame(employeers_info)\n",
    "print(data)\n",
    "    "
   ]
  },
  {
   "cell_type": "markdown",
   "metadata": {},
   "source": [
    "# Panel:\n",
    "    \n",
    "            --> it's represented by multi dimensional."
   ]
  },
  {
   "cell_type": "markdown",
   "metadata": {},
   "source": [
    "# Reading CSV & Excel File using Pandas:"
   ]
  },
  {
   "cell_type": "code",
   "execution_count": 6,
   "metadata": {},
   "outputs": [
    {
     "name": "stdout",
     "output_type": "stream",
     "text": [
      "      RowNumber  CustomerId    Surname  CreditScore Geography  Gender  Age  \\\n",
      "0             1    15634602   Hargrave          619    France  Female   42   \n",
      "1             2    15647311       Hill          608     Spain  Female   41   \n",
      "2             3    15619304       Onio          502    France  Female   42   \n",
      "3             4    15701354       Boni          699    France  Female   39   \n",
      "4             5    15737888   Mitchell          850     Spain  Female   43   \n",
      "...         ...         ...        ...          ...       ...     ...  ...   \n",
      "9995       9996    15606229   Obijiaku          771    France    Male   39   \n",
      "9996       9997    15569892  Johnstone          516    France    Male   35   \n",
      "9997       9998    15584532        Liu          709    France  Female   36   \n",
      "9998       9999    15682355  Sabbatini          772   Germany    Male   42   \n",
      "9999      10000    15628319     Walker          792    France  Female   28   \n",
      "\n",
      "      Tenure    Balance  NumOfProducts  HasCrCard  IsActiveMember  \\\n",
      "0          2       0.00              1          1               1   \n",
      "1          1   83807.86              1          0               1   \n",
      "2          8  159660.80              3          1               0   \n",
      "3          1       0.00              2          0               0   \n",
      "4          2  125510.82              1          1               1   \n",
      "...      ...        ...            ...        ...             ...   \n",
      "9995       5       0.00              2          1               0   \n",
      "9996      10   57369.61              1          1               1   \n",
      "9997       7       0.00              1          0               1   \n",
      "9998       3   75075.31              2          1               0   \n",
      "9999       4  130142.79              1          1               0   \n",
      "\n",
      "      EstimatedSalary  Exited  \n",
      "0           101348.88       1  \n",
      "1           112542.58       0  \n",
      "2           113931.57       1  \n",
      "3            93826.63       0  \n",
      "4            79084.10       0  \n",
      "...               ...     ...  \n",
      "9995         96270.64       0  \n",
      "9996        101699.77       0  \n",
      "9997         42085.58       1  \n",
      "9998         92888.52       1  \n",
      "9999         38190.78       0  \n",
      "\n",
      "[10000 rows x 14 columns]\n"
     ]
    }
   ],
   "source": [
    "import pandas as pd\n",
    "data = pd.read_csv('C:/Users/makro 1997/Churn_Modelling.csv')\n",
    "print(data)"
   ]
  },
  {
   "cell_type": "markdown",
   "metadata": {},
   "source": [
    "# First Five values in data set:"
   ]
  },
  {
   "cell_type": "code",
   "execution_count": 9,
   "metadata": {},
   "outputs": [
    {
     "name": "stdout",
     "output_type": "stream",
     "text": [
      "   RowNumber  CustomerId   Surname  CreditScore Geography  Gender  Age  \\\n",
      "0          1    15634602  Hargrave          619    France  Female   42   \n",
      "1          2    15647311      Hill          608     Spain  Female   41   \n",
      "2          3    15619304      Onio          502    France  Female   42   \n",
      "3          4    15701354      Boni          699    France  Female   39   \n",
      "4          5    15737888  Mitchell          850     Spain  Female   43   \n",
      "\n",
      "   Tenure    Balance  NumOfProducts  HasCrCard  IsActiveMember  \\\n",
      "0       2       0.00              1          1               1   \n",
      "1       1   83807.86              1          0               1   \n",
      "2       8  159660.80              3          1               0   \n",
      "3       1       0.00              2          0               0   \n",
      "4       2  125510.82              1          1               1   \n",
      "\n",
      "   EstimatedSalary  Exited  \n",
      "0        101348.88       1  \n",
      "1        112542.58       0  \n",
      "2        113931.57       1  \n",
      "3         93826.63       0  \n",
      "4         79084.10       0  \n"
     ]
    }
   ],
   "source": [
    "import pandas as pd\n",
    "data = pd.read_csv('C:/Users/makro 1997/Churn_Modelling.csv')\n",
    "print(data.head(5))"
   ]
  },
  {
   "cell_type": "markdown",
   "metadata": {},
   "source": [
    "# Last Five values in data set:"
   ]
  },
  {
   "cell_type": "code",
   "execution_count": 10,
   "metadata": {},
   "outputs": [
    {
     "name": "stdout",
     "output_type": "stream",
     "text": [
      "      RowNumber  CustomerId    Surname  CreditScore Geography  Gender  Age  \\\n",
      "9995       9996    15606229   Obijiaku          771    France    Male   39   \n",
      "9996       9997    15569892  Johnstone          516    France    Male   35   \n",
      "9997       9998    15584532        Liu          709    France  Female   36   \n",
      "9998       9999    15682355  Sabbatini          772   Germany    Male   42   \n",
      "9999      10000    15628319     Walker          792    France  Female   28   \n",
      "\n",
      "      Tenure    Balance  NumOfProducts  HasCrCard  IsActiveMember  \\\n",
      "9995       5       0.00              2          1               0   \n",
      "9996      10   57369.61              1          1               1   \n",
      "9997       7       0.00              1          0               1   \n",
      "9998       3   75075.31              2          1               0   \n",
      "9999       4  130142.79              1          1               0   \n",
      "\n",
      "      EstimatedSalary  Exited  \n",
      "9995         96270.64       0  \n",
      "9996        101699.77       0  \n",
      "9997         42085.58       1  \n",
      "9998         92888.52       1  \n",
      "9999         38190.78       0  \n"
     ]
    }
   ],
   "source": [
    "import pandas as pd\n",
    "data = pd.read_csv('C:/Users/makro 1997/Churn_Modelling.csv')\n",
    "print(data.tail(5))"
   ]
  },
  {
   "cell_type": "markdown",
   "metadata": {},
   "source": [
    "# Slicing the data set in pandas:"
   ]
  },
  {
   "cell_type": "code",
   "execution_count": 12,
   "metadata": {},
   "outputs": [
    {
     "name": "stdout",
     "output_type": "stream",
     "text": [
      "     RowNumber  CustomerId    Surname  CreditScore Geography  Gender  Age  \\\n",
      "200        201    15604482  Chiemezie          850     Spain    Male   30   \n",
      "201        202    15622911       Jude          759    France    Male   42   \n",
      "202        203    15600974         He          516     Spain    Male   50   \n",
      "203        204    15727868     Onuora          711    France  Female   38   \n",
      "204        205    15627801  Ginikanwa          512     Spain    Male   33   \n",
      "\n",
      "     Tenure    Balance  NumOfProducts  HasCrCard  IsActiveMember  \\\n",
      "200       2  141040.01              1          1               1   \n",
      "201       4  105420.18              1          0               1   \n",
      "202       5       0.00              1          0               1   \n",
      "203       2  129022.06              2          1               1   \n",
      "204       3  176666.62              1          1               0   \n",
      "\n",
      "     EstimatedSalary  Exited  \n",
      "200          5978.20       0  \n",
      "201        121409.06       0  \n",
      "202        146145.93       1  \n",
      "203         14374.86       1  \n",
      "204         94670.77       0  \n"
     ]
    }
   ],
   "source": [
    "import pandas as pd\n",
    "data = pd.read_csv('C:/Users/makro 1997/Churn_Modelling.csv')\n",
    "print(data[200:205])"
   ]
  },
  {
   "cell_type": "markdown",
   "metadata": {},
   "source": [
    "# Column Names:"
   ]
  },
  {
   "cell_type": "code",
   "execution_count": 14,
   "metadata": {},
   "outputs": [
    {
     "name": "stdout",
     "output_type": "stream",
     "text": [
      "Index(['RowNumber', 'CustomerId', 'Surname', 'CreditScore', 'Geography',\n",
      "       'Gender', 'Age', 'Tenure', 'Balance', 'NumOfProducts', 'HasCrCard',\n",
      "       'IsActiveMember', 'EstimatedSalary', 'Exited'],\n",
      "      dtype='object')\n"
     ]
    }
   ],
   "source": [
    "import pandas as pd\n",
    "data = pd.read_csv('C:/Users/makro 1997/Churn_Modelling.csv')\n",
    "print(data.columns)"
   ]
  },
  {
   "cell_type": "markdown",
   "metadata": {},
   "source": [
    "# Pandas:\n",
    "\n",
    "        --> High perfomance data analysis tool.\n",
    "        \n",
    "        --> Work with large daat set.\n",
    "        \n",
    "        --> More flexiable to use.\n",
    "        \n",
    "        --> Represent in table form(rows & columns).\n",
    "        \n",
    "        --> Indexing-Slicing-Subseting the large dataset.\n",
    "        \n",
    "        --> Accept (or) support files with different file formates.\n",
    "        \n",
    "        --> We can merge and join two different data sets easily.\n",
    "        \n",
    "        --> Reshape the datasets.\n",
    "        "
   ]
  }
 ],
 "metadata": {
  "kernelspec": {
   "display_name": "Python 3",
   "language": "python",
   "name": "python3"
  },
  "language_info": {
   "codemirror_mode": {
    "name": "ipython",
    "version": 3
   },
   "file_extension": ".py",
   "mimetype": "text/x-python",
   "name": "python",
   "nbconvert_exporter": "python",
   "pygments_lexer": "ipython3",
   "version": "3.7.6"
  }
 },
 "nbformat": 4,
 "nbformat_minor": 4
}
