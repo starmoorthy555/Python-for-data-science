{
 "cells": [
  {
   "cell_type": "markdown",
   "metadata": {},
   "source": [
    "# Inheritance:\n",
    "\n",
    "        --> Inheritance is Opject oriented programing langage concept in python.\n",
    "        \n",
    "        --> Its mainly used for derive or inherite the properites from one class to another class.\n",
    "        \n",
    "        --> We rrefer to the new class as the derived(child) class and the class from which it inherits is called the base   \n",
    "        \n",
    "            (parent) class.\n",
    "            \n",
    "            We have four type of inheritance in python.they are\n",
    "            \n",
    "                    1.Single inheritance\n",
    "                    \n",
    "                    2.Multiple inheritance.\n",
    "                    \n",
    "                    3.Multilevel inheritance.\n",
    "                    \n",
    "                    4.Hierarchical inheritance."
   ]
  },
  {
   "cell_type": "markdown",
   "metadata": {},
   "source": [
    "# Single Inheritance:\n",
    "\n",
    "        --> In this type a child class inherits from only one parent class."
   ]
  },
  {
   "cell_type": "code",
   "execution_count": 2,
   "metadata": {},
   "outputs": [
    {
     "name": "stdout",
     "output_type": "stream",
     "text": [
      "this is parent class\n"
     ]
    }
   ],
   "source": [
    "# Base class:\n",
    "class parent:\n",
    "    def fun1(self):\n",
    "        print('this is parent class')\n",
    "\n",
    "#child class:        \n",
    "class child(parent):\n",
    "    def fun2(self):\n",
    "        print('this is child class')\n",
    "        \n",
    "#Derive's code\n",
    "\n",
    "obj=child()\n",
    "obj.fun1()"
   ]
  },
  {
   "cell_type": "markdown",
   "metadata": {},
   "source": [
    "# Multiple Inheritance:\n",
    "\n",
    "        --> In this Inheritane the child class inherits from multiple base classes."
   ]
  },
  {
   "cell_type": "code",
   "execution_count": 12,
   "metadata": {},
   "outputs": [
    {
     "name": "stdout",
     "output_type": "stream",
     "text": [
      "the father name is raj_kumar\n",
      "the father age is 35\n",
      "---------------------------------------------------\n",
      "The mother name is  Manju\n",
      "The mother age is 32\n",
      "----------------------------------------------------\n",
      "the child name is Ram\n",
      "the child age is  18\n"
     ]
    }
   ],
   "source": [
    "#Base class\n",
    "class Mother:\n",
    "    def mother(self):\n",
    "        mother_name = 'Manju'\n",
    "        mother_age = 32\n",
    "        print('The mother name is ',mother_name)\n",
    "        print('The mother age is',mother_age)\n",
    "#Base class\n",
    "class father:\n",
    "      def father(self):\n",
    "        father_name = 'raj_kumar'\n",
    "        father_age = 35\n",
    "        print('the father name is',father_name)\n",
    "        print('the father age is',father_age)\n",
    "#Child class\n",
    "class child(Mother,father):\n",
    "    def child(self):\n",
    "        child_name ='Ram'\n",
    "        child_age= 18\n",
    "        print('the child name is',child_name)\n",
    "        print('the child age is ',child_age)\n",
    "        \n",
    "obj = child()\n",
    "obj.father()\n",
    "print('---------------------------------------------------')\n",
    "obj.mother()\n",
    "print('----------------------------------------------------')\n",
    "obj.child()\n"
   ]
  },
  {
   "cell_type": "markdown",
   "metadata": {},
   "source": [
    "# Multilevel inhertance:\n",
    "\n",
    "        --> In this Inheritance a child class inherits another child class."
   ]
  },
  {
   "cell_type": "code",
   "execution_count": 14,
   "metadata": {},
   "outputs": [
    {
     "name": "stdout",
     "output_type": "stream",
     "text": [
      "The grandfather name is kalai\n",
      "The grandfather age is  87\n",
      "--------------------------------------\n",
      "the father name is raj_kumar\n",
      "the father age is 45\n",
      "--------------------------------------\n",
      "the son name is saran\n",
      "the son age is  23\n"
     ]
    }
   ],
   "source": [
    "class grandfather:\n",
    "    def grand_father(self):\n",
    "        grand_father_name='kalai'\n",
    "        grand_father_age=87\n",
    "        print('The grandfather name is',grand_father_name)\n",
    "        print('The grandfather age is ',grand_father_age)\n",
    "        \n",
    "class Father(grandfather):\n",
    "    def father(self):\n",
    "        father_name='raj_kumar'\n",
    "        father_age = 45\n",
    "        print('the father name is',father_name)\n",
    "        print('the father age is',father_age)\n",
    "        \n",
    "class son(Father):\n",
    "    def son(self):\n",
    "        son_name = 'saran'\n",
    "        son_age = '23'\n",
    "        print('the son name is',son_name)\n",
    "        print('the son age is ',son_age)\n",
    "        \n",
    "obj = son()\n",
    "obj.grand_father()\n",
    "print('--------------------------------------')\n",
    "obj.father()\n",
    "print('--------------------------------------')\n",
    "obj.son()"
   ]
  },
  {
   "cell_type": "markdown",
   "metadata": {},
   "source": [
    "# Hierarchical Inhertance:\n",
    "\n",
    "        --> In this, we create more than one child classes from one parent  class."
   ]
  },
  {
   "cell_type": "code",
   "execution_count": 16,
   "metadata": {},
   "outputs": [
    {
     "name": "stdout",
     "output_type": "stream",
     "text": [
      "the parent name is  samy\n",
      "the parent age is 45\n"
     ]
    }
   ],
   "source": [
    "class parent:\n",
    "    def parent(self):\n",
    "        parent_name ='samy'\n",
    "        parent_age= 45\n",
    "        print('the parent name is ',parent_name)\n",
    "        print('the parent age is',parent_age)\n",
    "        \n",
    "        \n",
    "class child1(parent):\n",
    "    def child1(self):\n",
    "        child1_name = 'raji'\n",
    "        child1_age = '18'\n",
    "        print('the child1 name is',child1_name)\n",
    "        print('the child1 age is ',child1_age)\n",
    "        \n",
    "class child2(parent):\n",
    "    def child2(self):\n",
    "        child2_name = 'lakshmi'\n",
    "        child2_age = 17\n",
    "        print('the child 2 name is ',child2_name)\n",
    "        print('the child 2 age is',child2_age)\n",
    "obj = child1()        \n",
    "obj = child2()\n",
    "obj.parent()"
   ]
  }
 ],
 "metadata": {
  "kernelspec": {
   "display_name": "Python 3",
   "language": "python",
   "name": "python3"
  },
  "language_info": {
   "codemirror_mode": {
    "name": "ipython",
    "version": 3
   },
   "file_extension": ".py",
   "mimetype": "text/x-python",
   "name": "python",
   "nbconvert_exporter": "python",
   "pygments_lexer": "ipython3",
   "version": "3.7.6"
  }
 },
 "nbformat": 4,
 "nbformat_minor": 4
}
