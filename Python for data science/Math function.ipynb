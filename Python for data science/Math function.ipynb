{
 "cells": [
  {
   "cell_type": "markdown",
   "metadata": {},
   "source": [
    "# Math function.\n",
    "\n",
    "        --> python has a set of build in math functions.Including an extensive math module\n",
    "        \n",
    "        --> Maths function allows you to perform mathematical task on numbers\n",
    "        \n",
    "        We have eight type of math functions in python thay are\n",
    "                \n",
    "                1.min()\n",
    "                2.max()\n",
    "                3.abs()\n",
    "                4.pow()\n",
    "                5.sqrt()\n",
    "                6.ceil()\n",
    "                7.floor()\n",
    "                8.pi()"
   ]
  },
  {
   "cell_type": "markdown",
   "metadata": {},
   "source": [
    "# Minimum.\n",
    "\n",
    "        --> it's return the smallest value from the data."
   ]
  },
  {
   "cell_type": "code",
   "execution_count": 1,
   "metadata": {},
   "outputs": [
    {
     "name": "stdout",
     "output_type": "stream",
     "text": [
      "Minimum value of l is: 1\n"
     ]
    }
   ],
   "source": [
    "l =[6,2,4,1,5,8,4,9,10]\n",
    "print('Minimum value of l is:',min(l))"
   ]
  },
  {
   "cell_type": "markdown",
   "metadata": {},
   "source": [
    "# Maximum:\n",
    "\n",
    "        --> it's return the largest value from the data."
   ]
  },
  {
   "cell_type": "code",
   "execution_count": 2,
   "metadata": {},
   "outputs": [
    {
     "name": "stdout",
     "output_type": "stream",
     "text": [
      "Maximum value of l is : 10\n"
     ]
    }
   ],
   "source": [
    "l = [5,10,5,3,2,7,8,9,6]\n",
    "print('Maximum value of l is :',max(l))"
   ]
  },
  {
   "cell_type": "markdown",
   "metadata": {},
   "source": [
    "# Absolute:\n",
    "\n",
    "        --> its retun the absolute positive value from the data"
   ]
  },
  {
   "cell_type": "code",
   "execution_count": 4,
   "metadata": {},
   "outputs": [
    {
     "name": "stdout",
     "output_type": "stream",
     "text": [
      "9.32\n"
     ]
    }
   ],
   "source": [
    "x =abs(-9.32)\n",
    "print(x)"
   ]
  },
  {
   "cell_type": "markdown",
   "metadata": {},
   "source": [
    "# Pow:\n",
    "    \n",
    "    --> return the value of 4 to the power of 3"
   ]
  },
  {
   "cell_type": "code",
   "execution_count": 6,
   "metadata": {},
   "outputs": [
    {
     "name": "stdout",
     "output_type": "stream",
     "text": [
      "the return value of 4 to the power of 3 is: 64\n"
     ]
    }
   ],
   "source": [
    "x =pow(4,3)\n",
    "print('the return value of 4 to the power of 3 is:',x)"
   ]
  },
  {
   "cell_type": "markdown",
   "metadata": {},
   "source": [
    "# Sqrt:\n",
    "\n",
    "        --> it's used for square root of a number."
   ]
  },
  {
   "cell_type": "code",
   "execution_count": 10,
   "metadata": {},
   "outputs": [
    {
     "name": "stdout",
     "output_type": "stream",
     "text": [
      "the square of 64 is: 8.0\n"
     ]
    }
   ],
   "source": [
    "import math\n",
    "x = math.sqrt(64)\n",
    "print('the square of 64 is:',x)"
   ]
  },
  {
   "cell_type": "markdown",
   "metadata": {},
   "source": [
    "# Ceil:\n",
    "\n",
    "        --> math.ceil is used for rounds a number upwards to its nearest integer."
   ]
  },
  {
   "cell_type": "code",
   "execution_count": 13,
   "metadata": {},
   "outputs": [
    {
     "name": "stdout",
     "output_type": "stream",
     "text": [
      "The ceil value of 1.4 is : 2\n"
     ]
    }
   ],
   "source": [
    "import math\n",
    "x = math.ceil(1.4)\n",
    "print('The ceil value of 1.4 is :',x)"
   ]
  },
  {
   "cell_type": "markdown",
   "metadata": {},
   "source": [
    "# floor:\n",
    "\n",
    "        --> math.floor is used for round a number downwards to its nearest integer."
   ]
  },
  {
   "cell_type": "code",
   "execution_count": 14,
   "metadata": {},
   "outputs": [
    {
     "name": "stdout",
     "output_type": "stream",
     "text": [
      "The floor value of 5.67: 5\n"
     ]
    }
   ],
   "source": [
    "import math\n",
    "x =math.floor(5.67)\n",
    "print('The floor value of 5.67:',x)"
   ]
  },
  {
   "cell_type": "markdown",
   "metadata": {},
   "source": [
    "# Pi:\n",
    "\n",
    "        --> its return the constant value(3.14)."
   ]
  },
  {
   "cell_type": "code",
   "execution_count": 15,
   "metadata": {},
   "outputs": [
    {
     "name": "stdout",
     "output_type": "stream",
     "text": [
      "3.141592653589793\n"
     ]
    }
   ],
   "source": [
    "import math\n",
    "x =math.pi\n",
    "print(x)"
   ]
  }
 ],
 "metadata": {
  "kernelspec": {
   "display_name": "Python 3",
   "language": "python",
   "name": "python3"
  },
  "language_info": {
   "codemirror_mode": {
    "name": "ipython",
    "version": 3
   },
   "file_extension": ".py",
   "mimetype": "text/x-python",
   "name": "python",
   "nbconvert_exporter": "python",
   "pygments_lexer": "ipython3",
   "version": "3.7.6"
  }
 },
 "nbformat": 4,
 "nbformat_minor": 4
}
