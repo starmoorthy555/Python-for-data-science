{
 "cells": [
  {
   "cell_type": "markdown",
   "metadata": {},
   "source": [
    "# Python Class and Object:\n",
    "\n",
    "        --> Python is a Object Oriented Programing Language.\n",
    "        \n",
    "        --> almost every thing in python is an object with its properties and methods."
   ]
  },
  {
   "cell_type": "markdown",
   "metadata": {},
   "source": [
    "# Create a Class:\n",
    "\n",
    "        --> A class is a user defined prototype from which objects are created.\n",
    "\n",
    "        --> Create a class using keyword class.\n",
    "        \n",
    "        --> Collection of Methods and attributes.\n",
    "        \n",
    "        --> Class Variables = attributes.\n",
    "        \n",
    "        --> class function = Methods."
   ]
  },
  {
   "cell_type": "code",
   "execution_count": 1,
   "metadata": {},
   "outputs": [],
   "source": [
    "class Myclass:\n",
    "    x = 5"
   ]
  },
  {
   "cell_type": "markdown",
   "metadata": {},
   "source": [
    "# Create Object:\n",
    "        \n",
    "        --> Create an Object named obj and print the value x.\n",
    "        "
   ]
  },
  {
   "cell_type": "code",
   "execution_count": 7,
   "metadata": {},
   "outputs": [
    {
     "name": "stdout",
     "output_type": "stream",
     "text": [
      "5\n"
     ]
    }
   ],
   "source": [
    "obj =Myclass()\n",
    "print(obj.x)"
   ]
  },
  {
   "cell_type": "code",
   "execution_count": 10,
   "metadata": {},
   "outputs": [
    {
     "name": "stdout",
     "output_type": "stream",
     "text": [
      "Dog\n",
      "Cat\n"
     ]
    }
   ],
   "source": [
    "class dog:\n",
    "    ram = 'Dog'\n",
    "    janu = 'Cat'\n",
    "    \n",
    "Obj = dog()\n",
    "print(Obj.ram)\n",
    "print(Obj.janu)"
   ]
  },
  {
   "cell_type": "markdown",
   "metadata": {},
   "source": [
    "# The __init__() Function:\n",
    "\n",
    "        --> The __init__ method is similer to constractors.\n",
    "        \n",
    "        --> Constractors are used to initializing the objects state.\n",
    "\n",
    "        --> Use the __init__() Function to assign values to object properties, or the other operations that are necessary to \n",
    "        \n",
    "            do when the object is being created.\n",
    "            \n",
    "        --> All calss have a function called __init__(), which is always excecuted when the class is being initiated."
   ]
  },
  {
   "cell_type": "code",
   "execution_count": 12,
   "metadata": {},
   "outputs": [
    {
     "name": "stdout",
     "output_type": "stream",
     "text": [
      "john\n",
      "34\n"
     ]
    }
   ],
   "source": [
    "class person:\n",
    "    def __init__(self,name,age):\n",
    "        self.name =name\n",
    "        self.age = age\n",
    "        \n",
    "p1 = person('john',34)\n",
    "print(p1.name)\n",
    "print(p1.age)"
   ]
  },
  {
   "cell_type": "code",
   "execution_count": 14,
   "metadata": {},
   "outputs": [
    {
     "name": "stdout",
     "output_type": "stream",
     "text": [
      "Hello my name is kalai\n"
     ]
    }
   ],
   "source": [
    "class person:\n",
    "    def __init__(self,name):\n",
    "        self.name=name\n",
    "        \n",
    "    def fun(self):\n",
    "        print('Hello my name is',self.name)\n",
    "        \n",
    "p1 = person('kalai')\n",
    "\n",
    "p1.fun()"
   ]
  },
  {
   "cell_type": "code",
   "execution_count": 19,
   "metadata": {},
   "outputs": [
    {
     "name": "stdout",
     "output_type": "stream",
     "text": [
      "the pet name is : Ram\n",
      "the pet type is : Dog\n",
      "the pet color is : Black\n",
      "----------------------------------------\n",
      "the pet name is : Janu\n",
      "the pet type is : Cat\n",
      "the pet color is : White\n",
      "-----------------------------------------\n",
      "the pet name is : sam\n",
      "the pet type is : rat\n",
      "the pet color is : Brown\n",
      "-----------------------------------------\n"
     ]
    }
   ],
   "source": [
    "class pets:\n",
    "    def __init__(self,name,type,color):\n",
    "        self.name = name\n",
    "        self.type = type\n",
    "        self.color =color\n",
    "    def fun(self):\n",
    "        print('the pet name is :',self.name)\n",
    "        print('the pet type is :',self.type)\n",
    "        print('the pet color is :',self.color)\n",
    "obj1 = pets('Ram','Dog','Black')\n",
    "obj2 = pets('Janu','Cat','White')\n",
    "obj3 = pets('sam','rat','Brown')\n",
    "\n",
    "obj1.fun()\n",
    "print('----------------------------------------')\n",
    "obj2.fun()\n",
    "print('-----------------------------------------')\n",
    "obj3.fun()\n",
    "print('-----------------------------------------')"
   ]
  }
 ],
 "metadata": {
  "kernelspec": {
   "display_name": "Python 3",
   "language": "python",
   "name": "python3"
  },
  "language_info": {
   "codemirror_mode": {
    "name": "ipython",
    "version": 3
   },
   "file_extension": ".py",
   "mimetype": "text/x-python",
   "name": "python",
   "nbconvert_exporter": "python",
   "pygments_lexer": "ipython3",
   "version": "3.7.6"
  }
 },
 "nbformat": 4,
 "nbformat_minor": 4
}
