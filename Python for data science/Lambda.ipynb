{
 "cells": [
  {
   "cell_type": "markdown",
   "metadata": {},
   "source": [
    "# Anonymous Function in python:\n",
    "\n",
    "        --> Normal functions are defined using ht def keyword in python Anonymous function are defined using the \n",
    "            \n",
    "            Lambda keyword.\n",
    "            \n",
    "        --> anonymoys function is also called as lambda function.\n",
    "        \n",
    "        --> lambda function can take any number of arguments but can only have one expression.\n",
    "\n",
    "        --> anoymoys function that is defined with out a name."
   ]
  },
  {
   "cell_type": "code",
   "execution_count": 1,
   "metadata": {},
   "outputs": [
    {
     "name": "stdout",
     "output_type": "stream",
     "text": [
      "10\n"
     ]
    }
   ],
   "source": [
    "x = lambda a ,b : a + b\n",
    "print(x(5,5))"
   ]
  },
  {
   "cell_type": "code",
   "execution_count": 4,
   "metadata": {},
   "outputs": [
    {
     "name": "stdout",
     "output_type": "stream",
     "text": [
      "55\n"
     ]
    }
   ],
   "source": [
    "def myfun(n):\n",
    "    return lambda a: a*n\n",
    " \n",
    "x = myfun(5)\n",
    "print(x(11))"
   ]
  }
 ],
 "metadata": {
  "kernelspec": {
   "display_name": "Python 3",
   "language": "python",
   "name": "python3"
  },
  "language_info": {
   "codemirror_mode": {
    "name": "ipython",
    "version": 3
   },
   "file_extension": ".py",
   "mimetype": "text/x-python",
   "name": "python",
   "nbconvert_exporter": "python",
   "pygments_lexer": "ipython3",
   "version": "3.7.6"
  }
 },
 "nbformat": 4,
 "nbformat_minor": 4
}
